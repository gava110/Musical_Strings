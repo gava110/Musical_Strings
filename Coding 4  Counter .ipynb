{
 "cells": [
  {
   "cell_type": "markdown",
   "metadata": {},
   "source": [
    "# Per fare un lavoro fatto bene, bisognerebbe importare il modulo ch ehanno già creato che si trova su git hub"
   ]
  },
  {
   "cell_type": "markdown",
   "metadata": {},
   "source": [
    "https://github.com/swdevel-lab-h-farm-2020/lyrics"
   ]
  },
  {
   "cell_type": "code",
   "execution_count": 12,
   "metadata": {},
   "outputs": [],
   "source": [
    "import requests\n",
    "import json\n",
    "\n",
    "SONG_URL = 'https://api.lyrics.ovh/v1/{}/{}'\n",
    "\n",
    "\n",
    "def get_lyric( artist, title):\n",
    "\n",
    "    URL = SONG_URL.format(artist, title)\n",
    "\n",
    "    r = requests.get(URL)\n",
    "    data = json.loads(r.text)\n",
    "\n",
    "    try:\n",
    "        song = data['lyrics']\n",
    "    except TypeError:\n",
    "        pass\n",
    "\n",
    "    return song"
   ]
  },
  {
   "cell_type": "markdown",
   "metadata": {},
   "source": [
    "## Inizio codice:"
   ]
  },
  {
   "cell_type": "code",
   "execution_count": 7,
   "metadata": {},
   "outputs": [],
   "source": [
    "artist = \"Beatles\"\n",
    "song1= \"Yesterday\"\n",
    "song2= \"Across the Universe\"\n",
    "\n",
    "def counter (A1,A2,S1,S2):\n",
    "    cnt=0\n",
    "    text1= get_lyric(A1,S1).split()\n",
    "    text2= get_lyric(A1,S1).split()\n",
    "    for i in text1:\n",
    "        if i in text2:\n",
    "            cnt+=1\n",
    "    return cnt    "
   ]
  },
  {
   "cell_type": "code",
   "execution_count": 8,
   "metadata": {},
   "outputs": [
    {
     "name": "stdout",
     "output_type": "stream",
     "text": [
      "133\n"
     ]
    }
   ],
   "source": [
    "if __name__ == \"__main__\":\n",
    "    print(counter(artist,artist,song1,song2))"
   ]
  },
  {
   "cell_type": "markdown",
   "metadata": {},
   "source": [
    "## Stemming "
   ]
  },
  {
   "cell_type": "code",
   "execution_count": 40,
   "metadata": {},
   "outputs": [
    {
     "name": "stdout",
     "output_type": "stream",
     "text": [
      "Insert the name of your favourite artist: Beatles\n",
      "Insert the name of a song: Yesterday\n"
     ]
    }
   ],
   "source": [
    "name_artist = input(\"Insert the name of your favourite artist: \")\n",
    "name_song = input(\"Insert the name of a song: \")\n",
    "get_song= (get_lyric(name_artist, name_song))\n",
    "#print(canzone.split())"
   ]
  },
  {
   "cell_type": "code",
   "execution_count": 42,
   "metadata": {},
   "outputs": [],
   "source": [
    "from textblob import TextBlob\n",
    "song_stem = sorted(set(TextBlob(get_song).lower().words.stem()))\n",
    "#song_stem"
   ]
  },
  {
   "cell_type": "code",
   "execution_count": 43,
   "metadata": {},
   "outputs": [
    {
     "name": "stdout",
     "output_type": "stream",
     "text": [
      "Insert the name of your second favourite artist: Beatles\n",
      "Insert the name of a song: Across the Universe\n"
     ]
    }
   ],
   "source": [
    "name_artist2 = input(\"Insert the name of your second favourite artist: \")\n",
    "name_song2 = input(\"Insert the name of a song: \")\n",
    "get_song2= (get_lyric(name_artist2, name_song2))\n",
    "#print(canzone.split())"
   ]
  },
  {
   "cell_type": "code",
   "execution_count": 46,
   "metadata": {},
   "outputs": [],
   "source": [
    "song_stem2 = sorted(set(TextBlob(get_song2).lower().words.stem()))\n",
    "#song_stem2"
   ]
  },
  {
   "cell_type": "code",
   "execution_count": 47,
   "metadata": {},
   "outputs": [],
   "source": [
    "#Add Jaccard Similarity"
   ]
  },
  {
   "cell_type": "markdown",
   "metadata": {},
   "source": [
    "## Lemmatization"
   ]
  },
  {
   "cell_type": "code",
   "execution_count": 50,
   "metadata": {},
   "outputs": [],
   "source": [
    "song_lemm = sorted(set(TextBlob(get_song).lower().words.lemmatize()))\n",
    "#song_lemm"
   ]
  },
  {
   "cell_type": "code",
   "execution_count": 53,
   "metadata": {},
   "outputs": [],
   "source": [
    "song_lemm2 = sorted(set(TextBlob(get_song2).lower().words.lemmatize()))\n",
    "#song_lemm2"
   ]
  },
  {
   "cell_type": "code",
   "execution_count": null,
   "metadata": {},
   "outputs": [],
   "source": []
  }
 ],
 "metadata": {
  "kernelspec": {
   "display_name": "Python 3",
   "language": "python",
   "name": "python3"
  },
  "language_info": {
   "codemirror_mode": {
    "name": "ipython",
    "version": 3
   },
   "file_extension": ".py",
   "mimetype": "text/x-python",
   "name": "python",
   "nbconvert_exporter": "python",
   "pygments_lexer": "ipython3",
   "version": "3.7.4"
  }
 },
 "nbformat": 4,
 "nbformat_minor": 2
}
